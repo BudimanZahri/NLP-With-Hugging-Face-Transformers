{
  "nbformat": 4,
  "nbformat_minor": 0,
  "metadata": {
    "colab": {
      "provenance": []
    },
    "kernelspec": {
      "name": "python3",
      "display_name": "Python 3"
    },
    "language_info": {
      "name": "python"
    }
  },
  "cells": [
    {
      "cell_type": "code",
      "execution_count": 8,
      "metadata": {
        "colab": {
          "base_uri": "https://localhost:8080/"
        },
        "id": "hsMv6r8u9Kjx",
        "outputId": "75d927b2-f94b-4b6b-b502-7ccd0636ba07"
      },
      "outputs": [
        {
          "output_type": "stream",
          "name": "stderr",
          "text": [
            "Setting `pad_token_id` to `eos_token_id`:50256 for open-end generation.\n",
            "Setting `pad_token_id` to `eos_token_id`:50256 for open-end generation.\n",
            "Some weights of the model checkpoint at bert-base-uncased were not used when initializing BertForMaskedLM: ['bert.pooler.dense.bias', 'bert.pooler.dense.weight', 'cls.seq_relationship.bias', 'cls.seq_relationship.weight']\n",
            "- This IS expected if you are initializing BertForMaskedLM from the checkpoint of a model trained on another task or with another architecture (e.g. initializing a BertForSequenceClassification model from a BertForPreTraining model).\n",
            "- This IS NOT expected if you are initializing BertForMaskedLM from the checkpoint of a model that you expect to be exactly identical (initializing a BertForSequenceClassification model from a BertForSequenceClassification model).\n",
            "Some weights of the model checkpoint at dbmdz/bert-large-cased-finetuned-conll03-english were not used when initializing BertForTokenClassification: ['bert.pooler.dense.bias', 'bert.pooler.dense.weight']\n",
            "- This IS expected if you are initializing BertForTokenClassification from the checkpoint of a model trained on another task or with another architecture (e.g. initializing a BertForSequenceClassification model from a BertForPreTraining model).\n",
            "- This IS NOT expected if you are initializing BertForTokenClassification from the checkpoint of a model that you expect to be exactly identical (initializing a BertForSequenceClassification model from a BertForSequenceClassification model).\n"
          ]
        },
        {
          "output_type": "stream",
          "name": "stdout",
          "text": [
            "Answer: billing process\n",
            "Answer: money owed by a business to its suppliers\n",
            "Business debt is the amount that customers pay to business for the goods or services given.\n"
          ]
        }
      ],
      "source": [
        "from transformers import pipeline\n",
        "\n",
        "classifier = pipeline(\"zero-shot-classification\", model=\"facebook/bart-large-mnli\")\n",
        "classifier(\"This is a guide about accounting for inventory in business operations.\", candidate_labels=[\"accounting\", \"inventory management\", \"finance\"])\n",
        "\n",
        "classifier = pipeline(\"zero-shot-classification\", model=\"facebook/bart-large-mnli\")\n",
        "classifier(\"The process of billing customers for services rendered.\", candidate_labels=[\"billing\", \"accounts receivable\", \"finance\"])\n",
        "\n",
        "classifier = pipeline(\"zero-shot-classification\", model=\"facebook/bart-large-mnli\")\n",
        "classifier(\"Accounts payable and accounts receivable are essential components of financial operations.\", candidate_labels=[\"accounts payable\", \"accounts receivable\", \"finance\"])\n",
        "\n",
        "generator = pipeline(\"text-generation\", model=\"openai-gpt\")\n",
        "generator(\"In this accounting module, we will cover the invoicing process and best practices for\")\n",
        "\n",
        "generator = pipeline(\"text-generation\", model=\"distilgpt2\")\n",
        "generator(\"In this accounting tutorial, we will learn about managing accounts payable and receivable, focusing on\", max_length=30, num_return_sequences=2, truncation=True)\n",
        "\n",
        "generator = pipeline(\"text-generation\", model=\"distilgpt2\")\n",
        "generator(\"In this course, we will explore inventory accounting and cost management methods\")\n",
        "\n",
        "unmasker = pipeline(\"fill-mask\", model=\"bert-base-uncased\")\n",
        "unmasker(\"Inventory accounting includes methods such as [MASK] inventory, weighted average, and FIFO.\", top_k=2)\n",
        "\n",
        "ner = pipeline(\"ner\", model=\"dbmdz/bert-large-cased-finetuned-conll03-english\", grouped_entities=True)\n",
        "ner(\"My name is Sarah and I work at Hugging Face in Brooklyn.\")\n",
        "\n",
        "qa_pipeline = pipeline(\"question-answering\", model=\"distilbert-base-cased-distilled-squad\")\n",
        "context = \"Invoicing is a critical part of the billing process in accounting, where a bill is issued to a customer for services or goods.\"\n",
        "question = \"What is invoicing?\"\n",
        "\n",
        "result = qa_pipeline(question=question, context=context)\n",
        "print(f\"Answer: {result['answer']}\")\n",
        "\n",
        "qa_pipeline = pipeline(\"question-answering\", model=\"distilbert-base-cased-distilled-squad\")\n",
        "context = \"Accounts payable refers to money owed by a business to its suppliers, while accounts receivable represents the amount owed to the business by its customers.\"\n",
        "question = \"What is accounts payable?\"\n",
        "\n",
        "result = qa_pipeline(question=question, context=context)\n",
        "print(f\"Answer: {result['answer']}\")\n",
        "\n",
        "classifier = pipeline(\"sentiment-analysis\", model=\"distilbert-base-uncased-finetuned-sst-2-english\")\n",
        "classifier(\"The invoicing software is very user-friendly and efficient for tracking payments.\")\n",
        "\n",
        "summarizer = pipeline(\"summarization\", model=\"facebook/bart-large-cnn\")\n",
        "summarizer(\n",
        "    \"\"\"\n",
        "    Inventory accounting is a complex process that involves tracking the value of goods\n",
        "    held by a business. Various methods are used, including FIFO, LIFO, and weighted\n",
        "    average, each with its own impact on financial statements and tax obligations.\n",
        "    Inventory accounting affects both the cost of goods sold and the net income reported\n",
        "    by a company. Proper management of inventory accounting helps businesses make\n",
        "    informed financial decisions, optimize stock levels, and maintain accurate financial records.\n",
        "    \"\"\",\n",
        "    max_length=60,\n",
        "    min_length=30,\n",
        "    do_sample=False\n",
        ")\n",
        "\n",
        "translator = pipeline(\"translation\", model=\"Helsinki-NLP/opus-mt-id-en\")\n",
        "\n",
        "text_to_translate = \"Piutang usaha adalah jumlah yang harus dibayar oleh pelanggan kepada bisnis untuk barang atau layanan yang diberikan.\"\n",
        "result = translator(text_to_translate)\n",
        "\n",
        "print(result[0]['translation_text'])\n"
      ]
    }
  ]
}